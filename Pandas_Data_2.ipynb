{
 "cells": [
  {
   "cell_type": "code",
   "id": "initial_id",
   "metadata": {
    "collapsed": true,
    "ExecuteTime": {
     "end_time": "2025-04-01T00:08:24.166923Z",
     "start_time": "2025-04-01T00:08:24.144462Z"
    }
   },
   "source": [
    "import pandas as pd\n",
    "\n",
    "df = pd.read_csv('./auto-mpg.csv', header=None, delim_whitespace=True)\n",
    "df.columns = ['mpg', 'cylinders', 'displacement', 'horsepower', 'weight', 'acceleration', 'model year', 'origin',\n",
    "              'name']\n",
    "\n",
    "print(df.head())\n",
    "print('\\n')\n",
    "print(df.tail())"
   ],
   "outputs": [
    {
     "name": "stdout",
     "output_type": "stream",
     "text": [
      "    mpg  cylinders  displacement horsepower  weight  acceleration  model year  \\\n",
      "0  18.0          8         307.0      130.0  3504.0          12.0          70   \n",
      "1  15.0          8         350.0      165.0  3693.0          11.5          70   \n",
      "2  18.0          8         318.0      150.0  3436.0          11.0          70   \n",
      "3  16.0          8         304.0      150.0  3433.0          12.0          70   \n",
      "4  17.0          8         302.0      140.0  3449.0          10.5          70   \n",
      "\n",
      "   origin                       name  \n",
      "0       1  chevrolet chevelle malibu  \n",
      "1       1          buick skylark 320  \n",
      "2       1         plymouth satellite  \n",
      "3       1              amc rebel sst  \n",
      "4       1                ford torino  \n",
      "\n",
      "\n",
      "      mpg  cylinders  displacement horsepower  weight  acceleration  \\\n",
      "393  27.0          4         140.0      86.00  2790.0          15.6   \n",
      "394  44.0          4          97.0      52.00  2130.0          24.6   \n",
      "395  32.0          4         135.0      84.00  2295.0          11.6   \n",
      "396  28.0          4         120.0      79.00  2625.0          18.6   \n",
      "397  31.0          4         119.0      82.00  2720.0          19.4   \n",
      "\n",
      "     model year  origin             name  \n",
      "393          82       1  ford mustang gl  \n",
      "394          82       2        vw pickup  \n",
      "395          82       1    dodge rampage  \n",
      "396          82       1      ford ranger  \n",
      "397          82       1       chevy s-10  \n"
     ]
    },
    {
     "name": "stderr",
     "output_type": "stream",
     "text": [
      "C:\\Users\\snowy\\AppData\\Local\\Temp\\ipykernel_26256\\4172017299.py:3: FutureWarning: The 'delim_whitespace' keyword in pd.read_csv is deprecated and will be removed in a future version. Use ``sep='\\s+'`` instead\n",
      "  df = pd.read_csv('./auto-mpg.csv', header=None, delim_whitespace=True)\n"
     ]
    }
   ],
   "execution_count": 2
  },
  {
   "metadata": {
    "ExecuteTime": {
     "end_time": "2025-04-01T00:13:55.852647Z",
     "start_time": "2025-04-01T00:13:55.849305Z"
    }
   },
   "cell_type": "code",
   "source": "print(df.shape)",
   "id": "a59e072b494904bb",
   "outputs": [
    {
     "name": "stdout",
     "output_type": "stream",
     "text": [
      "(398, 9)\n"
     ]
    }
   ],
   "execution_count": 3
  },
  {
   "metadata": {
    "ExecuteTime": {
     "end_time": "2025-04-01T00:14:06.536227Z",
     "start_time": "2025-04-01T00:14:06.498225Z"
    }
   },
   "cell_type": "code",
   "source": "print(df.info())",
   "id": "e7601bfb86b098dc",
   "outputs": [
    {
     "name": "stdout",
     "output_type": "stream",
     "text": [
      "<class 'pandas.core.frame.DataFrame'>\n",
      "RangeIndex: 398 entries, 0 to 397\n",
      "Data columns (total 9 columns):\n",
      " #   Column        Non-Null Count  Dtype  \n",
      "---  ------        --------------  -----  \n",
      " 0   mpg           398 non-null    float64\n",
      " 1   cylinders     398 non-null    int64  \n",
      " 2   displacement  398 non-null    float64\n",
      " 3   horsepower    398 non-null    object \n",
      " 4   weight        398 non-null    float64\n",
      " 5   acceleration  398 non-null    float64\n",
      " 6   model year    398 non-null    int64  \n",
      " 7   origin        398 non-null    int64  \n",
      " 8   name          398 non-null    object \n",
      "dtypes: float64(4), int64(3), object(2)\n",
      "memory usage: 28.1+ KB\n",
      "None\n"
     ]
    }
   ],
   "execution_count": 4
  },
  {
   "metadata": {
    "ExecuteTime": {
     "end_time": "2025-04-01T00:47:52.213521Z",
     "start_time": "2025-04-01T00:47:52.203379Z"
    }
   },
   "cell_type": "code",
   "source": [
    "print(df.count())\n",
    "print('\\n')\n",
    "\n",
    "print(type(df.count()))"
   ],
   "id": "b0a0c1e750284d7f",
   "outputs": [
    {
     "name": "stdout",
     "output_type": "stream",
     "text": [
      "mpg             398\n",
      "cylinders       398\n",
      "displacement    398\n",
      "horsepower      398\n",
      "weight          398\n",
      "acceleration    398\n",
      "model year      398\n",
      "origin          398\n",
      "name            398\n",
      "dtype: int64\n",
      "\n",
      "\n",
      "<class 'pandas.core.series.Series'>\n"
     ]
    }
   ],
   "execution_count": 5
  },
  {
   "metadata": {
    "ExecuteTime": {
     "end_time": "2025-04-01T00:50:07.664926Z",
     "start_time": "2025-04-01T00:50:07.659460Z"
    }
   },
   "cell_type": "code",
   "source": [
    "unique_values = df['origin'].value_counts()\n",
    "print(unique_values)\n",
    "print('\\n')\n",
    "\n",
    "print(type(unique_values))"
   ],
   "id": "b4d42862544be5fa",
   "outputs": [
    {
     "name": "stdout",
     "output_type": "stream",
     "text": [
      "origin\n",
      "1    249\n",
      "3     79\n",
      "2     70\n",
      "Name: count, dtype: int64\n",
      "\n",
      "\n",
      "<class 'pandas.core.series.Series'>\n"
     ]
    }
   ],
   "execution_count": 6
  },
  {
   "metadata": {
    "ExecuteTime": {
     "end_time": "2025-04-01T00:59:27.887093Z",
     "start_time": "2025-04-01T00:59:27.880608Z"
    }
   },
   "cell_type": "code",
   "source": [
    "df['horsepower'] = pd.to_numeric(df['horsepower'], errors='coerce')\n",
    "print(df.mean(numeric_only=True))\n",
    "\n",
    "print('\\n')\n",
    "print(df['mpg'].mean())\n",
    "print(df.mpg.mean())\n",
    "print('\\n')\n",
    "print(df[['mpg', 'weight']].mean())\n",
    "print('\\n')\n",
    "print(df['horsepower'].max())\n",
    "print('\\n')\n",
    "print(df['horsepower'].min())\n",
    "print('\\n')"
   ],
   "id": "aedd7d6cd0440bb5",
   "outputs": [
    {
     "name": "stdout",
     "output_type": "stream",
     "text": [
      "mpg               23.514573\n",
      "cylinders          5.454774\n",
      "displacement     193.425879\n",
      "horsepower       104.469388\n",
      "weight          2970.424623\n",
      "acceleration      15.568090\n",
      "model year        76.010050\n",
      "origin             1.572864\n",
      "dtype: float64\n",
      "\n",
      "\n",
      "23.514572864321607\n",
      "23.514572864321607\n",
      "\n",
      "\n",
      "mpg         23.514573\n",
      "weight    2970.424623\n",
      "dtype: float64\n",
      "\n",
      "\n",
      "230.0\n",
      "\n",
      "\n",
      "46.0\n",
      "\n",
      "\n"
     ]
    }
   ],
   "execution_count": 9
  },
  {
   "metadata": {
    "ExecuteTime": {
     "end_time": "2025-04-01T01:02:12.058045Z",
     "start_time": "2025-04-01T01:02:12.052688Z"
    }
   },
   "cell_type": "code",
   "source": [
    "print(df.std(numeric_only=True))\n",
    "print('\\n')\n",
    "print(df['mpg'].std())"
   ],
   "id": "9261877cc1ec5f0f",
   "outputs": [
    {
     "name": "stdout",
     "output_type": "stream",
     "text": [
      "mpg               7.815984\n",
      "cylinders         1.701004\n",
      "displacement    104.269838\n",
      "horsepower       38.491160\n",
      "weight          846.841774\n",
      "acceleration      2.757689\n",
      "model year        3.697627\n",
      "origin            0.802055\n",
      "dtype: float64\n",
      "\n",
      "\n",
      "7.815984312565782\n"
     ]
    }
   ],
   "execution_count": 12
  },
  {
   "metadata": {
    "ExecuteTime": {
     "end_time": "2025-04-01T01:04:25.582055Z",
     "start_time": "2025-04-01T01:04:25.573113Z"
    }
   },
   "cell_type": "code",
   "source": [
    "print(df.corr(numeric_only=True))\n",
    "print('\\n')\n",
    "print(df[['mpg', 'weight']].corr())"
   ],
   "id": "d74862c3403883df",
   "outputs": [
    {
     "name": "stdout",
     "output_type": "stream",
     "text": [
      "                   mpg  cylinders  displacement  horsepower    weight  \\\n",
      "mpg           1.000000  -0.775396     -0.804203   -0.778427 -0.831741   \n",
      "cylinders    -0.775396   1.000000      0.950721    0.842983  0.896017   \n",
      "displacement -0.804203   0.950721      1.000000    0.897257  0.932824   \n",
      "horsepower   -0.778427   0.842983      0.897257    1.000000  0.864538   \n",
      "weight       -0.831741   0.896017      0.932824    0.864538  1.000000   \n",
      "acceleration  0.420289  -0.505419     -0.543684   -0.689196 -0.417457   \n",
      "model year    0.579267  -0.348746     -0.370164   -0.416361 -0.306564   \n",
      "origin        0.563450  -0.562543     -0.609409   -0.455171 -0.581024   \n",
      "\n",
      "              acceleration  model year    origin  \n",
      "mpg               0.420289    0.579267  0.563450  \n",
      "cylinders        -0.505419   -0.348746 -0.562543  \n",
      "displacement     -0.543684   -0.370164 -0.609409  \n",
      "horsepower       -0.689196   -0.416361 -0.455171  \n",
      "weight           -0.417457   -0.306564 -0.581024  \n",
      "acceleration      1.000000    0.288137  0.205873  \n",
      "model year        0.288137    1.000000  0.180662  \n",
      "origin            0.205873    0.180662  1.000000  \n",
      "\n",
      "\n",
      "             mpg    weight\n",
      "mpg     1.000000 -0.831741\n",
      "weight -0.831741  1.000000\n"
     ]
    }
   ],
   "execution_count": 13
  }
 ],
 "metadata": {
  "kernelspec": {
   "display_name": "Python 3",
   "language": "python",
   "name": "python3"
  },
  "language_info": {
   "codemirror_mode": {
    "name": "ipython",
    "version": 2
   },
   "file_extension": ".py",
   "mimetype": "text/x-python",
   "name": "python",
   "nbconvert_exporter": "python",
   "pygments_lexer": "ipython2",
   "version": "2.7.6"
  }
 },
 "nbformat": 4,
 "nbformat_minor": 5
}
