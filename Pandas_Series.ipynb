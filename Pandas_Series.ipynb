{
 "cells": [
  {
   "cell_type": "code",
   "execution_count": 3,
   "id": "d1ae616a-ac50-460b-85e0-e59de66727bb",
   "metadata": {},
   "outputs": [
    {
     "name": "stdout",
     "output_type": "stream",
     "text": [
      "<class 'pandas.core.series.Series'>\n",
      "a    1\n",
      "b    2\n",
      "c    3\n",
      "dtype: int64\n"
     ]
    }
   ],
   "source": [
    "import pandas as pd\n",
    "\n",
    "dict_data = {\n",
    "    'a': 1,\n",
    "    'b': 2,\n",
    "    'c': 3\n",
    "}\n",
    "\n",
    "sr = pd.Series(dict_data)\n",
    "print(type(sr))\n",
    "print(sr)"
   ]
  },
  {
   "cell_type": "code",
   "execution_count": 5,
   "id": "0b687c1e-bed2-45c4-abc7-22e91b25c3f2",
   "metadata": {},
   "outputs": [
    {
     "name": "stdout",
     "output_type": "stream",
     "text": [
      "<class 'pandas.core.series.Series'>\n",
      "0    2025-03-11\n",
      "1          3.14\n",
      "2          GOLD\n",
      "3           100\n",
      "4          True\n",
      "dtype: object\n"
     ]
    }
   ],
   "source": [
    "list_data = ['2025-03-11', 3.14, 'GOLD', 100, True]\n",
    "\n",
    "sr = pd.Series(list_data)\n",
    "\n",
    "print(type(sr))\n",
    "print(sr)"
   ]
  },
  {
   "cell_type": "code",
   "execution_count": 10,
   "id": "3fef74d0-4303-4dab-b68e-81e88f933e1b",
   "metadata": {},
   "outputs": [
    {
     "name": "stdout",
     "output_type": "stream",
     "text": [
      "RangeIndex(start=0, stop=5, step=1)\n",
      "['2025-03-11' 3.14 'GOLD' 100 True]\n"
     ]
    }
   ],
   "source": [
    "idx = sr.index\n",
    "val = sr.values\n",
    "\n",
    "print(idx)\n",
    "print(val)"
   ]
  },
  {
   "cell_type": "code",
   "execution_count": 14,
   "id": "70d2c019-57bf-4777-a3c2-ed851df0c562",
   "metadata": {},
   "outputs": [
    {
     "name": "stdout",
     "output_type": "stream",
     "text": [
      "이름            콩보리\n",
      "생일     2017-11-25\n",
      "귀여움             1\n",
      "dtype: object\n"
     ]
    }
   ],
   "source": [
    "tup_data = ('콩보리', '2017-11-25', 1)\n",
    "sr = pd.Series(tup_data, index=['이름', '생일', '귀여움'])\n",
    "print(sr)"
   ]
  },
  {
   "cell_type": "code",
   "execution_count": null,
   "id": "b8818c10-4a8b-4c37-8827-e29e511710b3",
   "metadata": {},
   "outputs": [],
   "source": []
  }
 ],
 "metadata": {
  "kernelspec": {
   "display_name": "Python [conda env:base] *",
   "language": "python",
   "name": "conda-base-py"
  },
  "language_info": {
   "codemirror_mode": {
    "name": "ipython",
    "version": 3
   },
   "file_extension": ".py",
   "mimetype": "text/x-python",
   "name": "python",
   "nbconvert_exporter": "python",
   "pygments_lexer": "ipython3",
   "version": "3.12.7"
  }
 },
 "nbformat": 4,
 "nbformat_minor": 5
}
