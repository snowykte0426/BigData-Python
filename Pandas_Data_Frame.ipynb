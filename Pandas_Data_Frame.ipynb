{
 "cells": [
  {
   "cell_type": "code",
   "execution_count": 3,
   "id": "2a7a26cb-0ebe-4e47-bb42-35a592bfc109",
   "metadata": {},
   "outputs": [
    {
     "name": "stdout",
     "output_type": "stream",
     "text": [
      "<class 'pandas.core.frame.DataFrame'>\n",
      "   c0  c1  c2  c3\n",
      "0   1   4   7  10\n",
      "1   2   5   8  11\n",
      "2   3   6   9  12\n"
     ]
    }
   ],
   "source": [
    "import pandas as pd\n",
    "\n",
    "dict_data = {\n",
    "    'c0': [1, 2, 3],\n",
    "    'c1': [4, 5, 6],\n",
    "    'c2': [7, 8, 9],\n",
    "    'c3': [10, 11, 12]\n",
    "}\n",
    "\n",
    "df = pd.DataFrame(dict_data)\n",
    "\n",
    "print(type(df))\n",
    "print(df)"
   ]
  },
  {
   "cell_type": "code",
   "execution_count": 5,
   "id": "982893e5-10af-472e-b875-058bcfa1734b",
   "metadata": {},
   "outputs": [
    {
     "name": "stdout",
     "output_type": "stream",
     "text": [
      "       학번   전공  연애 중\n",
      "김민솔  2403  디자인     1\n",
      "박현민  2407   게임     0\n",
      "박승일  2406   AI     0\n",
      "\n",
      "\n",
      "Index(['김민솔', '박현민', '박승일'], dtype='object')\n",
      "Index(['학번', '전공', '연애 중'], dtype='object')\n"
     ]
    }
   ],
   "source": [
    "df = pd.DataFrame([[2403, '디자인', 1], [2407, '게임', 0], [2406, 'AI', 0]],\n",
    "                  index=['김민솔', '박현민', '박승일'],\n",
    "                  columns=['학번', '전공', '연애 중'])\n",
    "\n",
    "print(df)\n",
    "print('\\n')\n",
    "print(df.index)\n",
    "print(df.columns)"
   ]
  },
  {
   "cell_type": "code",
   "execution_count": 7,
   "id": "4fa47b71-3027-4110-a718-484d976cc353",
   "metadata": {},
   "outputs": [
    {
     "name": "stdout",
     "output_type": "stream",
     "text": [
      "     number study  love\n",
      "민솔이    2403   디자인     1\n",
      "현민이    2407    게임     0\n",
      "승일이    2406    AI     0\n",
      "\n",
      "\n",
      "Index(['민솔이', '현민이', '승일이'], dtype='object')\n",
      "Index(['number', 'study', 'love'], dtype='object')\n"
     ]
    }
   ],
   "source": [
    "df.index = ['민솔이', '현민이', '승일이']\n",
    "df.columns = ['number', 'study', 'love']\n",
    "\n",
    "print(df)\n",
    "print('\\n')\n",
    "print(df.index)\n",
    "print(df.columns)"
   ]
  },
  {
   "cell_type": "code",
   "execution_count": 15,
   "id": "8ffbf492-5522-414f-aca6-b8f19723d42b",
   "metadata": {},
   "outputs": [
    {
     "name": "stdout",
     "output_type": "stream",
     "text": [
      "     NUM study  LOVE\n",
      "민솔  2403   디자인     1\n",
      "현민  2407    게임     0\n",
      "승일  2406    AI     0\n",
      "\n",
      "\n"
     ]
    }
   ],
   "source": [
    "print(df)\n",
    "print('\\n')\n",
    "\n",
    "df.rename(columns = {'number': 'NUM', 'love': 'LOVE'}, inplace = True)\n",
    "df.rename(index = {'민솔이': '민솔', '현민이': '현민', '승일이': '승일'}, inplace = True)"
   ]
  },
  {
   "cell_type": "code",
   "execution_count": 34,
   "id": "4079e725-0f0a-46fe-8c7f-84a8e4440250",
   "metadata": {},
   "outputs": [
    {
     "name": "stdout",
     "output_type": "stream",
     "text": [
      "     NUM  LOVE\n",
      "민솔  2403     1\n"
     ]
    }
   ],
   "source": [
    "df.drop(columns = ['study'], inplace = True)\n",
    "\n",
    "print(df)"
   ]
  }
 ],
 "metadata": {
  "kernelspec": {
   "display_name": "Python [conda env:base] *",
   "language": "python",
   "name": "conda-base-py"
  },
  "language_info": {
   "codemirror_mode": {
    "name": "ipython",
    "version": 3
   },
   "file_extension": ".py",
   "mimetype": "text/x-python",
   "name": "python",
   "nbconvert_exporter": "python",
   "pygments_lexer": "ipython3",
   "version": "3.12.7"
  }
 },
 "nbformat": 4,
 "nbformat_minor": 5
}
