{
 "cells": [
  {
   "cell_type": "code",
   "id": "initial_id",
   "metadata": {
    "collapsed": true,
    "ExecuteTime": {
     "end_time": "2025-03-26T02:04:05.483807Z",
     "start_time": "2025-03-26T02:04:05.468990Z"
    }
   },
   "source": [
    "import pandas as pd\n",
    "\n",
    "student1 = pd.Series({'국어': 100, '영어': 80, '수학': 90})\n",
    "print(student1)\n",
    "print('\\n')\n",
    "\n",
    "percentage = student1 / 200\n",
    "print(percentage)\n",
    "print(type(percentage))"
   ],
   "outputs": [
    {
     "name": "stdout",
     "output_type": "stream",
     "text": [
      "국어    100\n",
      "영어     80\n",
      "수학     90\n",
      "dtype: int64\n",
      "\n",
      "\n",
      "국어    0.50\n",
      "영어    0.40\n",
      "수학    0.45\n",
      "dtype: float64\n",
      "<class 'pandas.core.series.Series'>\n"
     ]
    }
   ],
   "execution_count": 2
  },
  {
   "metadata": {
    "ExecuteTime": {
     "end_time": "2025-03-26T02:04:07.264837Z",
     "start_time": "2025-03-26T02:04:07.245508Z"
    }
   },
   "cell_type": "code",
   "source": [
    "student2 = pd.Series({'수학': 80, '국어': 90, '영어': 80})\n",
    "\n",
    "print(student1)\n",
    "print('\\n')\n",
    "print(student2)\n",
    "\n",
    "addition = student1 + student2\n",
    "subtraction = student1 - student2\n",
    "multiplication = student1 * student2\n",
    "division = student1 / student2\n",
    "\n",
    "print(type(division))\n",
    "print('\\n')\n",
    "\n",
    "result = pd.DataFrame([addition, subtraction, multiplication, division],\n",
    "                      index=['덧셈', '뺄셈', '곱셈', '나눗셈'])\n",
    "\n",
    "print(result)"
   ],
   "id": "3df766169f1c99f8",
   "outputs": [
    {
     "name": "stdout",
     "output_type": "stream",
     "text": [
      "국어    100\n",
      "영어     80\n",
      "수학     90\n",
      "dtype: int64\n",
      "\n",
      "\n",
      "수학    80\n",
      "국어    90\n",
      "영어    80\n",
      "dtype: int64\n",
      "<class 'pandas.core.series.Series'>\n",
      "\n",
      "\n",
      "              국어        수학      영어\n",
      "덧셈    190.000000   170.000   160.0\n",
      "뺄셈     10.000000    10.000     0.0\n",
      "곱셈   9000.000000  7200.000  6400.0\n",
      "나눗셈     1.111111     1.125     1.0\n"
     ]
    }
   ],
   "execution_count": 3
  },
  {
   "metadata": {
    "ExecuteTime": {
     "end_time": "2025-03-26T02:04:09.372018Z",
     "start_time": "2025-03-26T02:04:09.364037Z"
    }
   },
   "cell_type": "code",
   "source": [
    "import numpy as np\n",
    "\n",
    "student1 = pd.Series({'국어': np.nan, '영어': 80, '수학': 90})\n",
    "student2 = pd.Series({'수학': 80, '국어': 90})\n",
    "\n",
    "print(student1)\n",
    "print('\\n')\n",
    "print(student2)\n",
    "print('\\n')\n",
    "\n",
    "addition = student1 + student2\n",
    "subtraction = student1 - student2\n",
    "multiplication = student1 * student2\n",
    "division = student1 / student2\n",
    "\n",
    "print(type(division))\n",
    "print('\\n')\n",
    "\n",
    "result = pd.DataFrame([addition, subtraction, multiplication, division],\n",
    "                      index=['덧셈', '뺄셈', '곱셈', '나눗셈'])\n",
    "\n",
    "print(result)"
   ],
   "id": "4446f67d80c3fa3c",
   "outputs": [
    {
     "name": "stdout",
     "output_type": "stream",
     "text": [
      "국어     NaN\n",
      "영어    80.0\n",
      "수학    90.0\n",
      "dtype: float64\n",
      "\n",
      "\n",
      "수학    80\n",
      "국어    90\n",
      "dtype: int64\n",
      "\n",
      "\n",
      "<class 'pandas.core.series.Series'>\n",
      "\n",
      "\n",
      "     국어        수학  영어\n",
      "덧셈  NaN   170.000 NaN\n",
      "뺄셈  NaN    10.000 NaN\n",
      "곱셈  NaN  7200.000 NaN\n",
      "나눗셈 NaN     1.125 NaN\n"
     ]
    }
   ],
   "execution_count": 4
  },
  {
   "metadata": {
    "ExecuteTime": {
     "end_time": "2025-03-26T02:04:11.374815Z",
     "start_time": "2025-03-26T02:04:11.367477Z"
    }
   },
   "cell_type": "code",
   "source": [
    "sr_add = student1.add(student2, fill_value=0)\n",
    "sr_sub = student1.sub(student2, fill_value=0)\n",
    "sr_mul = student1.mul(student2, fill_value=0)\n",
    "sr_div = student1.div(student2, fill_value=0)\n",
    "\n",
    "result = pd.DataFrame([sr_add, sr_sub, sr_mul, sr_div],\n",
    "                      index=['덧셈', '뺄셈', '곱셈', '나눗셈'])\n",
    "\n",
    "print(result)"
   ],
   "id": "7141c018f64c8a45",
   "outputs": [
    {
     "name": "stdout",
     "output_type": "stream",
     "text": [
      "       국어        수학    영어\n",
      "덧셈   90.0   170.000  80.0\n",
      "뺄셈  -90.0    10.000  80.0\n",
      "곱셈    0.0  7200.000   0.0\n",
      "나눗셈   0.0     1.125   inf\n"
     ]
    }
   ],
   "execution_count": 5
  },
  {
   "metadata": {
    "ExecuteTime": {
     "end_time": "2025-03-26T02:04:13.269874Z",
     "start_time": "2025-03-26T02:04:13.243882Z"
    }
   },
   "cell_type": "code",
   "source": [
    "import seaborn as sns\n",
    "\n",
    "titanic = sns.load_dataset('titanic')\n",
    "df = titanic.loc[:, ['age', 'fare']]\n",
    "\n",
    "print(df.head())\n",
    "print('\\n')\n",
    "print(type(df))\n",
    "print('\\n')\n",
    "\n",
    "addition = df + 10\n",
    "print(addition.head())\n",
    "print('\\n')\n",
    "print(type(addition))"
   ],
   "id": "7703124df144786c",
   "outputs": [
    {
     "name": "stdout",
     "output_type": "stream",
     "text": [
      "    age     fare\n",
      "0  22.0   7.2500\n",
      "1  38.0  71.2833\n",
      "2  26.0   7.9250\n",
      "3  35.0  53.1000\n",
      "4  35.0   8.0500\n",
      "\n",
      "\n",
      "<class 'pandas.core.frame.DataFrame'>\n",
      "\n",
      "\n",
      "    age     fare\n",
      "0  32.0  17.2500\n",
      "1  48.0  81.2833\n",
      "2  36.0  17.9250\n",
      "3  45.0  63.1000\n",
      "4  45.0  18.0500\n",
      "\n",
      "\n",
      "<class 'pandas.core.frame.DataFrame'>\n"
     ]
    }
   ],
   "execution_count": 6
  },
  {
   "metadata": {
    "ExecuteTime": {
     "end_time": "2025-03-26T02:04:15.332578Z",
     "start_time": "2025-03-26T02:04:15.324152Z"
    }
   },
   "cell_type": "code",
   "source": [
    "print(df.tail())\n",
    "print('\\n')\n",
    "print(type(df))\n",
    "print('\\n')\n",
    "\n",
    "print(addition.tail())\n",
    "print('\\n')\n",
    "print(type(addition))\n",
    "print('\\n')\n",
    "\n",
    "subtraction = addition - df\n",
    "print(subtraction.tail())\n",
    "print('\\n')\n",
    "print(type(subtraction))"
   ],
   "id": "248762fc02e6e84d",
   "outputs": [
    {
     "name": "stdout",
     "output_type": "stream",
     "text": [
      "      age   fare\n",
      "886  27.0  13.00\n",
      "887  19.0  30.00\n",
      "888   NaN  23.45\n",
      "889  26.0  30.00\n",
      "890  32.0   7.75\n",
      "\n",
      "\n",
      "<class 'pandas.core.frame.DataFrame'>\n",
      "\n",
      "\n",
      "      age   fare\n",
      "886  37.0  23.00\n",
      "887  29.0  40.00\n",
      "888   NaN  33.45\n",
      "889  36.0  40.00\n",
      "890  42.0  17.75\n",
      "\n",
      "\n",
      "<class 'pandas.core.frame.DataFrame'>\n",
      "\n",
      "\n",
      "      age  fare\n",
      "886  10.0  10.0\n",
      "887  10.0  10.0\n",
      "888   NaN  10.0\n",
      "889  10.0  10.0\n",
      "890  10.0  10.0\n",
      "\n",
      "\n",
      "<class 'pandas.core.frame.DataFrame'>\n"
     ]
    }
   ],
   "execution_count": 7
  },
  {
   "metadata": {
    "ExecuteTime": {
     "end_time": "2025-03-26T02:04:17.320163Z",
     "start_time": "2025-03-26T02:04:17.304903Z"
    }
   },
   "cell_type": "code",
   "source": [
    "file_path = './sheet.csv'\n",
    "\n",
    "df1 = pd.read_csv(file_path)\n",
    "print(df1)\n",
    "print('\\n')\n",
    "\n",
    "df2 = pd.read_csv(file_path, header=None)\n",
    "print(df2)\n",
    "print('\\n')\n",
    "\n",
    "df3 = pd.read_csv(file_path, index_col=0)\n",
    "print(df3)\n",
    "\n",
    "df4 = pd.read_csv(file_path, index_col='c0')\n",
    "print(df4)"
   ],
   "id": "29a2cd35b5c1fadb",
   "outputs": [
    {
     "name": "stdout",
     "output_type": "stream",
     "text": [
      "   c0  c1  c2  c3\n",
      "0   0   1   4   7\n",
      "1   1   2   5   8\n",
      "2   2   3   6   9\n",
      "\n",
      "\n",
      "    0   1   2   3\n",
      "0  c0  c1  c2  c3\n",
      "1   0   1   4   7\n",
      "2   1   2   5   8\n",
      "3   2   3   6   9\n",
      "\n",
      "\n",
      "    c1  c2  c3\n",
      "c0            \n",
      "0    1   4   7\n",
      "1    2   5   8\n",
      "2    3   6   9\n",
      "    c1  c2  c3\n",
      "c0            \n",
      "0    1   4   7\n",
      "1    2   5   8\n",
      "2    3   6   9\n"
     ]
    }
   ],
   "execution_count": 8
  },
  {
   "metadata": {
    "ExecuteTime": {
     "end_time": "2025-03-26T02:04:20.009901Z",
     "start_time": "2025-03-26T02:04:19.837547Z"
    }
   },
   "cell_type": "code",
   "source": [
    "df5 = pd.read_excel('./sheet.xlsx')\n",
    "df6 = pd.read_excel('./sheet.xlsx', header=0)\n",
    "\n",
    "print(df5)\n",
    "print('\\n')\n",
    "print(df6)"
   ],
   "id": "9de38cbf3c631c24",
   "outputs": [
    {
     "name": "stdout",
     "output_type": "stream",
     "text": [
      "   통계표명:   아황산가스(SO2) Unnamed: 2  Unnamed: 3  Unnamed: 4  Unnamed: 5  \\\n",
      "0    단위:          ppm        NaN         NaN         NaN         NaN   \n",
      "1    NaN         2014       2015    2016.000    2017.000    2018.000   \n",
      "2     서울        0.006      0.005       0.005       0.005       0.004   \n",
      "3     부산        0.007      0.006       0.005       0.005       0.005   \n",
      "4     대구        0.004      0.003       0.003       0.003       0.003   \n",
      "5     인천        0.007      0.006       0.006       0.006       0.005   \n",
      "6     광주        0.004      0.003       0.003       0.003       0.003   \n",
      "7     대전        0.004      0.004       0.003       0.003       0.002   \n",
      "8     울산        0.008      0.007       0.007       0.006       0.006   \n",
      "9     세종            -          -       0.004       0.003       0.003   \n",
      "10   출처:  환경부「대기환경연보」        NaN         NaN         NaN         NaN   \n",
      "\n",
      "    Unnamed: 6  Unnamed: 7  Unnamed: 8  Unnamed: 9  Unnamed: 10  \n",
      "0          NaN         NaN         NaN         NaN          NaN  \n",
      "1     2019.000    2020.000    2021.000    2022.000     2023.000  \n",
      "2        0.004       0.003       0.003       0.003        0.003  \n",
      "3        0.005       0.004       0.003       0.003        0.003  \n",
      "4        0.003       0.002       0.002       0.002        0.002  \n",
      "5        0.005       0.004       0.003       0.003        0.003  \n",
      "6        0.003       0.003       0.003       0.003        0.003  \n",
      "7        0.002       0.002       0.003       0.003        0.003  \n",
      "8        0.005       0.004       0.003       0.003        0.003  \n",
      "9        0.003       0.003       0.003       0.003        0.003  \n",
      "10         NaN         NaN         NaN         NaN          NaN  \n",
      "\n",
      "\n",
      "   통계표명:   아황산가스(SO2) Unnamed: 2  Unnamed: 3  Unnamed: 4  Unnamed: 5  \\\n",
      "0    단위:          ppm        NaN         NaN         NaN         NaN   \n",
      "1    NaN         2014       2015    2016.000    2017.000    2018.000   \n",
      "2     서울        0.006      0.005       0.005       0.005       0.004   \n",
      "3     부산        0.007      0.006       0.005       0.005       0.005   \n",
      "4     대구        0.004      0.003       0.003       0.003       0.003   \n",
      "5     인천        0.007      0.006       0.006       0.006       0.005   \n",
      "6     광주        0.004      0.003       0.003       0.003       0.003   \n",
      "7     대전        0.004      0.004       0.003       0.003       0.002   \n",
      "8     울산        0.008      0.007       0.007       0.006       0.006   \n",
      "9     세종            -          -       0.004       0.003       0.003   \n",
      "10   출처:  환경부「대기환경연보」        NaN         NaN         NaN         NaN   \n",
      "\n",
      "    Unnamed: 6  Unnamed: 7  Unnamed: 8  Unnamed: 9  Unnamed: 10  \n",
      "0          NaN         NaN         NaN         NaN          NaN  \n",
      "1     2019.000    2020.000    2021.000    2022.000     2023.000  \n",
      "2        0.004       0.003       0.003       0.003        0.003  \n",
      "3        0.005       0.004       0.003       0.003        0.003  \n",
      "4        0.003       0.002       0.002       0.002        0.002  \n",
      "5        0.005       0.004       0.003       0.003        0.003  \n",
      "6        0.003       0.003       0.003       0.003        0.003  \n",
      "7        0.002       0.002       0.003       0.003        0.003  \n",
      "8        0.005       0.004       0.003       0.003        0.003  \n",
      "9        0.003       0.003       0.003       0.003        0.003  \n",
      "10         NaN         NaN         NaN         NaN          NaN  \n"
     ]
    },
    {
     "name": "stderr",
     "output_type": "stream",
     "text": [
      "C:\\Users\\snowy\\PyCharmMiscProject\\.venv\\Lib\\site-packages\\openpyxl\\styles\\stylesheet.py:237: UserWarning: Workbook contains no default style, apply openpyxl's default\n",
      "  warn(\"Workbook contains no default style, apply openpyxl's default\")\n",
      "C:\\Users\\snowy\\PyCharmMiscProject\\.venv\\Lib\\site-packages\\openpyxl\\styles\\stylesheet.py:237: UserWarning: Workbook contains no default style, apply openpyxl's default\n",
      "  warn(\"Workbook contains no default style, apply openpyxl's default\")\n"
     ]
    }
   ],
   "execution_count": 9
  },
  {
   "metadata": {
    "ExecuteTime": {
     "end_time": "2025-03-26T02:05:57.098408Z",
     "start_time": "2025-03-26T02:05:57.086783Z"
    }
   },
   "cell_type": "code",
   "source": [
    "df7 = pd.read_json('./test.json')\n",
    "df8 = pd.read_json('./test.json', typ='series')\n",
    "\n",
    "print(df7)\n",
    "print('\\n')\n",
    "print(df8)"
   ],
   "id": "cc151111c8d7b709",
   "outputs": [
    {
     "name": "stdout",
     "output_type": "stream",
     "text": [
      "                                               users\n",
      "0  {'userId': 1, 'firstName': 'AAAAA', 'lastName'...\n",
      "1  {'userId': 2, 'firstName': 'BBBB', 'lastName':...\n",
      "2  {'userId': 3, 'firstName': 'CCCCC', 'lastName'...\n",
      "3  {'userId': 4, 'firstName': 'DDDDD', 'lastName'...\n",
      "4  {'userId': 5, 'firstName': 'EEEEE', 'lastName'...\n",
      "\n",
      "\n",
      "users    [{'userId': 1, 'firstName': 'AAAAA', 'lastName...\n",
      "dtype: object\n"
     ]
    }
   ],
   "execution_count": 10
  }
 ],
 "metadata": {
  "kernelspec": {
   "display_name": "Python 3",
   "language": "python",
   "name": "python3"
  },
  "language_info": {
   "codemirror_mode": {
    "name": "ipython",
    "version": 2
   },
   "file_extension": ".py",
   "mimetype": "text/x-python",
   "name": "python",
   "nbconvert_exporter": "python",
   "pygments_lexer": "ipython2",
   "version": "2.7.6"
  }
 },
 "nbformat": 4,
 "nbformat_minor": 5
}
